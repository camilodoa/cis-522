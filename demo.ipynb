{
 "cells": [
  {
   "cell_type": "markdown",
   "id": "tight-decimal",
   "metadata": {},
   "source": [
    "## hate speech classification demo\n",
    "\n",
    "In this notebook we will be testing out our model with some random sample tweets. You'll need to [download our model](https://drive.google.com/drive/folders/1UE1MiiNbXWgalJ1UIDW7mTLsSH15UIfX?usp=sharing) and place it in the current directory."
   ]
  },
  {
   "cell_type": "markdown",
   "id": "alone-concentrate",
   "metadata": {},
   "source": [
    "## installation"
   ]
  },
  {
   "cell_type": "code",
   "execution_count": 1,
   "id": "informational-mustang",
   "metadata": {},
   "outputs": [
    {
     "name": "stdout",
     "output_type": "stream",
     "text": [
      "Collecting twint\n",
      "  Cloning https://github.com/twintproject/twint.git (to revision origin/master) to /private/var/folders/j_/ygb_gxx970b1bfpk3v12gc980000gp/T/pip-install-qoszy9rc/twint_54caad899ddc420a9dc12a3334587eb1\n",
      "\u001b[33m  WARNING: Did not find branch or tag 'origin/master', assuming revision or ref.\u001b[0m\n",
      "Requirement already satisfied: aiohttp in /usr/local/Cellar/jupyterlab/3.0.5/libexec/lib/python3.9/site-packages (from twint) (3.7.4.post0)\n",
      "Requirement already satisfied: aiodns in /usr/local/Cellar/jupyterlab/3.0.5/libexec/lib/python3.9/site-packages (from twint) (2.0.0)\n",
      "Requirement already satisfied: beautifulsoup4 in /usr/local/Cellar/jupyterlab/3.0.5/libexec/lib/python3.9/site-packages (from twint) (4.9.3)\n",
      "Requirement already satisfied: cchardet in /usr/local/Cellar/jupyterlab/3.0.5/libexec/lib/python3.9/site-packages (from twint) (2.1.7)\n",
      "Requirement already satisfied: dataclasses in /usr/local/Cellar/jupyterlab/3.0.5/libexec/lib/python3.9/site-packages (from twint) (0.6)\n",
      "Requirement already satisfied: elasticsearch in /usr/local/Cellar/jupyterlab/3.0.5/libexec/lib/python3.9/site-packages (from twint) (7.12.0)\n",
      "Requirement already satisfied: pysocks in /usr/local/Cellar/jupyterlab/3.0.5/libexec/lib/python3.9/site-packages (from twint) (1.7.1)\n",
      "Requirement already satisfied: pandas in /usr/local/Cellar/jupyterlab/3.0.5/libexec/lib/python3.9/site-packages (from twint) (1.2.3)\n",
      "Requirement already satisfied: aiohttp_socks in /usr/local/Cellar/jupyterlab/3.0.5/libexec/lib/python3.9/site-packages (from twint) (0.6.0)\n",
      "Requirement already satisfied: schedule in /usr/local/Cellar/jupyterlab/3.0.5/libexec/lib/python3.9/site-packages (from twint) (1.1.0)\n",
      "Requirement already satisfied: geopy in /usr/local/Cellar/jupyterlab/3.0.5/libexec/lib/python3.9/site-packages (from twint) (2.1.0)\n",
      "Requirement already satisfied: fake-useragent in /usr/local/Cellar/jupyterlab/3.0.5/libexec/lib/python3.9/site-packages (from twint) (0.1.11)\n",
      "Requirement already satisfied: googletransx in /usr/local/Cellar/jupyterlab/3.0.5/libexec/lib/python3.9/site-packages (from twint) (2.4.2)\n",
      "Requirement already satisfied: pycares>=3.0.0 in /usr/local/Cellar/jupyterlab/3.0.5/libexec/lib/python3.9/site-packages (from aiodns->twint) (3.1.1)\n",
      "Requirement already satisfied: cffi>=1.5.0 in /usr/local/Cellar/jupyterlab/3.0.5/libexec/lib/python3.9/site-packages (from pycares>=3.0.0->aiodns->twint) (1.14.4)\n",
      "Requirement already satisfied: pycparser in /usr/local/Cellar/jupyterlab/3.0.5/libexec/lib/python3.9/site-packages (from cffi>=1.5.0->pycares>=3.0.0->aiodns->twint) (2.20)\n",
      "Requirement already satisfied: typing-extensions>=3.6.5 in /usr/local/Cellar/jupyterlab/3.0.5/libexec/lib/python3.9/site-packages (from aiohttp->twint) (3.7.4.3)\n",
      "Requirement already satisfied: async-timeout<4.0,>=3.0 in /usr/local/Cellar/jupyterlab/3.0.5/libexec/lib/python3.9/site-packages (from aiohttp->twint) (3.0.1)\n",
      "Requirement already satisfied: yarl<2.0,>=1.0 in /usr/local/Cellar/jupyterlab/3.0.5/libexec/lib/python3.9/site-packages (from aiohttp->twint) (1.6.3)\n",
      "Requirement already satisfied: multidict<7.0,>=4.5 in /usr/local/Cellar/jupyterlab/3.0.5/libexec/lib/python3.9/site-packages (from aiohttp->twint) (5.1.0)\n",
      "Requirement already satisfied: attrs>=17.3.0 in /usr/local/Cellar/jupyterlab/3.0.5/libexec/lib/python3.9/site-packages (from aiohttp->twint) (20.3.0)\n",
      "Requirement already satisfied: chardet<5.0,>=2.0 in /usr/local/Cellar/jupyterlab/3.0.5/libexec/lib/python3.9/site-packages (from aiohttp->twint) (4.0.0)\n",
      "Requirement already satisfied: idna>=2.0 in /usr/local/Cellar/jupyterlab/3.0.5/libexec/lib/python3.9/site-packages (from yarl<2.0,>=1.0->aiohttp->twint) (3.1)\n",
      "Requirement already satisfied: python-socks[asyncio]>=1.2.2 in /usr/local/Cellar/jupyterlab/3.0.5/libexec/lib/python3.9/site-packages (from aiohttp_socks->twint) (1.2.4)\n",
      "Requirement already satisfied: soupsieve>1.2 in /usr/local/Cellar/jupyterlab/3.0.5/libexec/lib/python3.9/site-packages (from beautifulsoup4->twint) (2.2.1)\n",
      "Requirement already satisfied: urllib3<2,>=1.21.1 in /usr/local/Cellar/jupyterlab/3.0.5/libexec/lib/python3.9/site-packages (from elasticsearch->twint) (1.26.4)\n",
      "Requirement already satisfied: certifi in /usr/local/Cellar/jupyterlab/3.0.5/libexec/lib/python3.9/site-packages (from elasticsearch->twint) (2020.12.5)\n",
      "Requirement already satisfied: geographiclib<2,>=1.49 in /usr/local/Cellar/jupyterlab/3.0.5/libexec/lib/python3.9/site-packages (from geopy->twint) (1.50)\n",
      "Requirement already satisfied: requests in /usr/local/Cellar/jupyterlab/3.0.5/libexec/lib/python3.9/site-packages (from googletransx->twint) (2.15.1)\n",
      "Requirement already satisfied: numpy>=1.16.5 in /usr/local/Cellar/jupyterlab/3.0.5/libexec/lib/python3.9/site-packages (from pandas->twint) (1.20.2)\n",
      "Requirement already satisfied: pytz>=2017.3 in /usr/local/Cellar/jupyterlab/3.0.5/libexec/lib/python3.9/site-packages (from pandas->twint) (2020.5)\n",
      "Requirement already satisfied: python-dateutil>=2.7.3 in /usr/local/Cellar/jupyterlab/3.0.5/libexec/lib/python3.9/site-packages (from pandas->twint) (2.8.1)\n",
      "Requirement already satisfied: six>=1.5 in /usr/local/Cellar/jupyterlab/3.0.5/libexec/lib/python3.9/site-packages (from python-dateutil>=2.7.3->pandas->twint) (1.15.0)\n",
      "\u001b[33mWARNING: You are using pip version 20.3.3; however, version 21.0.1 is available.\n",
      "You should consider upgrading via the '/usr/local/Cellar/jupyterlab/3.0.5/libexec/bin/python3 -m pip install --upgrade pip' command.\u001b[0m\n",
      "Note: you may need to restart the kernel to use updated packages.\n",
      "Requirement already satisfied: torch in /usr/local/Cellar/jupyterlab/3.0.5/libexec/lib/python3.9/site-packages (1.8.1)\n",
      "Requirement already satisfied: typing-extensions in /usr/local/Cellar/jupyterlab/3.0.5/libexec/lib/python3.9/site-packages (from torch) (3.7.4.3)\n",
      "Requirement already satisfied: numpy in /usr/local/Cellar/jupyterlab/3.0.5/libexec/lib/python3.9/site-packages (from torch) (1.20.2)\n",
      "\u001b[33mWARNING: You are using pip version 20.3.3; however, version 21.0.1 is available.\n",
      "You should consider upgrading via the '/usr/local/Cellar/jupyterlab/3.0.5/libexec/bin/python3 -m pip install --upgrade pip' command.\u001b[0m\n",
      "Note: you may need to restart the kernel to use updated packages.\n",
      "Requirement already satisfied: transformers in /usr/local/Cellar/jupyterlab/3.0.5/libexec/lib/python3.9/site-packages (4.5.0)\n",
      "Requirement already satisfied: tqdm>=4.27 in /usr/local/Cellar/jupyterlab/3.0.5/libexec/lib/python3.9/site-packages (from transformers) (4.60.0)\n",
      "Requirement already satisfied: numpy>=1.17 in /usr/local/Cellar/jupyterlab/3.0.5/libexec/lib/python3.9/site-packages (from transformers) (1.20.2)\n",
      "Requirement already satisfied: packaging in /usr/local/Cellar/jupyterlab/3.0.5/libexec/lib/python3.9/site-packages (from transformers) (20.8)\n",
      "Requirement already satisfied: requests in /usr/local/Cellar/jupyterlab/3.0.5/libexec/lib/python3.9/site-packages (from transformers) (2.15.1)\n",
      "Requirement already satisfied: filelock in /usr/local/Cellar/jupyterlab/3.0.5/libexec/lib/python3.9/site-packages (from transformers) (3.0.12)\n",
      "Requirement already satisfied: tokenizers<0.11,>=0.10.1 in /usr/local/Cellar/jupyterlab/3.0.5/libexec/lib/python3.9/site-packages (from transformers) (0.10.2)\n",
      "Requirement already satisfied: regex!=2019.12.17 in /usr/local/Cellar/jupyterlab/3.0.5/libexec/lib/python3.9/site-packages (from transformers) (2021.4.4)\n",
      "Requirement already satisfied: sacremoses in /usr/local/Cellar/jupyterlab/3.0.5/libexec/lib/python3.9/site-packages (from transformers) (0.0.44)\n",
      "Requirement already satisfied: pyparsing>=2.0.2 in /usr/local/Cellar/jupyterlab/3.0.5/libexec/lib/python3.9/site-packages (from packaging->transformers) (2.4.7)\n",
      "Requirement already satisfied: six in /usr/local/Cellar/jupyterlab/3.0.5/libexec/lib/python3.9/site-packages (from sacremoses->transformers) (1.15.0)\n",
      "Requirement already satisfied: click in /usr/local/Cellar/jupyterlab/3.0.5/libexec/lib/python3.9/site-packages (from sacremoses->transformers) (7.1.2)\n",
      "Requirement already satisfied: joblib in /usr/local/Cellar/jupyterlab/3.0.5/libexec/lib/python3.9/site-packages (from sacremoses->transformers) (1.0.1)\n",
      "\u001b[33mWARNING: You are using pip version 20.3.3; however, version 21.0.1 is available.\n",
      "You should consider upgrading via the '/usr/local/Cellar/jupyterlab/3.0.5/libexec/bin/python3 -m pip install --upgrade pip' command.\u001b[0m\n"
     ]
    },
    {
     "name": "stdout",
     "output_type": "stream",
     "text": [
      "Note: you may need to restart the kernel to use updated packages.\n"
     ]
    }
   ],
   "source": [
    "%pip install --upgrade git+https://github.com/twintproject/twint.git@origin/master#egg=twint\n",
    "%pip install torch\n",
    "%pip install transformers"
   ]
  },
  {
   "cell_type": "markdown",
   "id": "objective-round",
   "metadata": {},
   "source": [
    "## imports"
   ]
  },
  {
   "cell_type": "code",
   "execution_count": 1,
   "id": "checked-genre",
   "metadata": {},
   "outputs": [],
   "source": [
    "import torch\n",
    "import transformers\n",
    "import twint\n",
    "from transformers import DistilBertForSequenceClassification, DistilBertTokenizerFast, AdamW, DistilBertConfig\n",
    "import nest_asyncio\n",
    "nest_asyncio.apply()"
   ]
  },
  {
   "cell_type": "markdown",
   "id": "personalized-environment",
   "metadata": {},
   "source": [
    "Let's load our model and tokenizer."
   ]
  },
  {
   "cell_type": "code",
   "execution_count": 2,
   "id": "bulgarian-thomson",
   "metadata": {},
   "outputs": [
    {
     "data": {
      "text/plain": [
       "device(type='cpu')"
      ]
     },
     "execution_count": 2,
     "metadata": {},
     "output_type": "execute_result"
    }
   ],
   "source": [
    "device = torch.device(\"cuda:0\" if torch.cuda.is_available() else \"cpu\")\n",
    "device"
   ]
  },
  {
   "cell_type": "code",
   "execution_count": 3,
   "id": "coastal-cathedral",
   "metadata": {},
   "outputs": [],
   "source": [
    "model = torch.load('model.bin', map_location=device)"
   ]
  },
  {
   "cell_type": "code",
   "execution_count": 4,
   "id": "modified-democracy",
   "metadata": {},
   "outputs": [],
   "source": [
    "tokenizer = DistilBertTokenizerFast.from_pretrained('distilbert-base-uncased')"
   ]
  },
  {
   "cell_type": "markdown",
   "id": "informed-canberra",
   "metadata": {},
   "source": [
    "Now, let's fetch some tweets and clean them up."
   ]
  },
  {
   "cell_type": "code",
   "execution_count": 6,
   "id": "eastern-duncan",
   "metadata": {},
   "outputs": [
    {
     "name": "stderr",
     "output_type": "stream",
     "text": [
      "CRITICAL:root:twint.run:Twint:Feed:noData'globalObjects'\n",
      "sleeping for 1.0 secs\n",
      "CRITICAL:root:twint.run:Twint:Feed:noData'globalObjects'\n",
      "sleeping for 8.0 secs\n"
     ]
    },
    {
     "ename": "KeyboardInterrupt",
     "evalue": "",
     "output_type": "error",
     "traceback": [
      "\u001b[0;31m---------------------------------------------------------------------------\u001b[0m",
      "\u001b[0;31mKeyError\u001b[0m                                  Traceback (most recent call last)",
      "\u001b[0;32m/usr/local/Cellar/jupyterlab/3.0.5/libexec/lib/python3.9/site-packages/twint/run.py\u001b[0m in \u001b[0;36mFeed\u001b[0;34m(self)\u001b[0m\n\u001b[1;32m     93\u001b[0m                     \u001b[0;32mtry\u001b[0m\u001b[0;34m:\u001b[0m\u001b[0;34m\u001b[0m\u001b[0;34m\u001b[0m\u001b[0m\n\u001b[0;32m---> 94\u001b[0;31m                         \u001b[0mself\u001b[0m\u001b[0;34m.\u001b[0m\u001b[0mfeed\u001b[0m\u001b[0;34m,\u001b[0m \u001b[0mself\u001b[0m\u001b[0;34m.\u001b[0m\u001b[0minit\u001b[0m \u001b[0;34m=\u001b[0m \u001b[0mfeed\u001b[0m\u001b[0;34m.\u001b[0m\u001b[0mparse_tweets\u001b[0m\u001b[0;34m(\u001b[0m\u001b[0mself\u001b[0m\u001b[0;34m.\u001b[0m\u001b[0mconfig\u001b[0m\u001b[0;34m,\u001b[0m \u001b[0mresponse\u001b[0m\u001b[0;34m)\u001b[0m\u001b[0;34m\u001b[0m\u001b[0;34m\u001b[0m\u001b[0m\n\u001b[0m\u001b[1;32m     95\u001b[0m                     \u001b[0;32mexcept\u001b[0m \u001b[0mNoMoreTweetsException\u001b[0m \u001b[0;32mas\u001b[0m \u001b[0me\u001b[0m\u001b[0;34m:\u001b[0m\u001b[0;34m\u001b[0m\u001b[0;34m\u001b[0m\u001b[0m\n",
      "\u001b[0;32m/usr/local/Cellar/jupyterlab/3.0.5/libexec/lib/python3.9/site-packages/twint/feed.py\u001b[0m in \u001b[0;36mparse_tweets\u001b[0;34m(config, response)\u001b[0m\n\u001b[1;32m     79\u001b[0m     \u001b[0mresponse\u001b[0m \u001b[0;34m=\u001b[0m \u001b[0mloads\u001b[0m\u001b[0;34m(\u001b[0m\u001b[0mresponse\u001b[0m\u001b[0;34m)\u001b[0m\u001b[0;34m\u001b[0m\u001b[0;34m\u001b[0m\u001b[0m\n\u001b[0;32m---> 80\u001b[0;31m     \u001b[0;32mif\u001b[0m \u001b[0mlen\u001b[0m\u001b[0;34m(\u001b[0m\u001b[0mresponse\u001b[0m\u001b[0;34m[\u001b[0m\u001b[0;34m'globalObjects'\u001b[0m\u001b[0;34m]\u001b[0m\u001b[0;34m[\u001b[0m\u001b[0;34m'tweets'\u001b[0m\u001b[0;34m]\u001b[0m\u001b[0;34m)\u001b[0m \u001b[0;34m==\u001b[0m \u001b[0;36m0\u001b[0m\u001b[0;34m:\u001b[0m\u001b[0;34m\u001b[0m\u001b[0;34m\u001b[0m\u001b[0m\n\u001b[0m\u001b[1;32m     81\u001b[0m         \u001b[0mmsg\u001b[0m \u001b[0;34m=\u001b[0m \u001b[0;34m'No more data!'\u001b[0m\u001b[0;34m\u001b[0m\u001b[0;34m\u001b[0m\u001b[0m\n",
      "\u001b[0;31mKeyError\u001b[0m: 'globalObjects'",
      "\nDuring handling of the above exception, another exception occurred:\n",
      "\u001b[0;31mKeyboardInterrupt\u001b[0m                         Traceback (most recent call last)",
      "\u001b[0;32m<ipython-input-6-cab80d04e818>\u001b[0m in \u001b[0;36m<module>\u001b[0;34m\u001b[0m\n\u001b[1;32m      7\u001b[0m \u001b[0mc\u001b[0m\u001b[0;34m.\u001b[0m\u001b[0mOutput\u001b[0m \u001b[0;34m=\u001b[0m \u001b[0;34m\"none\"\u001b[0m\u001b[0;34m\u001b[0m\u001b[0;34m\u001b[0m\u001b[0m\n\u001b[1;32m      8\u001b[0m \u001b[0;34m\u001b[0m\u001b[0m\n\u001b[0;32m----> 9\u001b[0;31m \u001b[0mtwint\u001b[0m\u001b[0;34m.\u001b[0m\u001b[0mrun\u001b[0m\u001b[0;34m.\u001b[0m\u001b[0mSearch\u001b[0m\u001b[0;34m(\u001b[0m\u001b[0mc\u001b[0m\u001b[0;34m)\u001b[0m\u001b[0;34m\u001b[0m\u001b[0;34m\u001b[0m\u001b[0m\n\u001b[0m",
      "\u001b[0;32m/usr/local/Cellar/jupyterlab/3.0.5/libexec/lib/python3.9/site-packages/twint/run.py\u001b[0m in \u001b[0;36mSearch\u001b[0;34m(config, callback)\u001b[0m\n\u001b[1;32m    408\u001b[0m     \u001b[0mconfig\u001b[0m\u001b[0;34m.\u001b[0m\u001b[0mFollowers\u001b[0m \u001b[0;34m=\u001b[0m \u001b[0;32mFalse\u001b[0m\u001b[0;34m\u001b[0m\u001b[0;34m\u001b[0m\u001b[0m\n\u001b[1;32m    409\u001b[0m     \u001b[0mconfig\u001b[0m\u001b[0;34m.\u001b[0m\u001b[0mProfile\u001b[0m \u001b[0;34m=\u001b[0m \u001b[0;32mFalse\u001b[0m\u001b[0;34m\u001b[0m\u001b[0;34m\u001b[0m\u001b[0m\n\u001b[0;32m--> 410\u001b[0;31m     \u001b[0mrun\u001b[0m\u001b[0;34m(\u001b[0m\u001b[0mconfig\u001b[0m\u001b[0;34m,\u001b[0m \u001b[0mcallback\u001b[0m\u001b[0;34m)\u001b[0m\u001b[0;34m\u001b[0m\u001b[0;34m\u001b[0m\u001b[0m\n\u001b[0m\u001b[1;32m    411\u001b[0m     \u001b[0;32mif\u001b[0m \u001b[0mconfig\u001b[0m\u001b[0;34m.\u001b[0m\u001b[0mPandas_au\u001b[0m\u001b[0;34m:\u001b[0m\u001b[0;34m\u001b[0m\u001b[0;34m\u001b[0m\u001b[0m\n\u001b[1;32m    412\u001b[0m         \u001b[0mstorage\u001b[0m\u001b[0;34m.\u001b[0m\u001b[0mpanda\u001b[0m\u001b[0;34m.\u001b[0m\u001b[0m_autoget\u001b[0m\u001b[0;34m(\u001b[0m\u001b[0;34m\"tweet\"\u001b[0m\u001b[0;34m)\u001b[0m\u001b[0;34m\u001b[0m\u001b[0;34m\u001b[0m\u001b[0m\n",
      "\u001b[0;32m/usr/local/Cellar/jupyterlab/3.0.5/libexec/lib/python3.9/site-packages/twint/run.py\u001b[0m in \u001b[0;36mrun\u001b[0;34m(config, callback)\u001b[0m\n\u001b[1;32m    327\u001b[0m         \u001b[0;32mraise\u001b[0m\u001b[0;34m\u001b[0m\u001b[0;34m\u001b[0m\u001b[0m\n\u001b[1;32m    328\u001b[0m \u001b[0;34m\u001b[0m\u001b[0m\n\u001b[0;32m--> 329\u001b[0;31m     \u001b[0mget_event_loop\u001b[0m\u001b[0;34m(\u001b[0m\u001b[0;34m)\u001b[0m\u001b[0;34m.\u001b[0m\u001b[0mrun_until_complete\u001b[0m\u001b[0;34m(\u001b[0m\u001b[0mTwint\u001b[0m\u001b[0;34m(\u001b[0m\u001b[0mconfig\u001b[0m\u001b[0;34m)\u001b[0m\u001b[0;34m.\u001b[0m\u001b[0mmain\u001b[0m\u001b[0;34m(\u001b[0m\u001b[0mcallback\u001b[0m\u001b[0;34m)\u001b[0m\u001b[0;34m)\u001b[0m\u001b[0;34m\u001b[0m\u001b[0;34m\u001b[0m\u001b[0m\n\u001b[0m\u001b[1;32m    330\u001b[0m \u001b[0;34m\u001b[0m\u001b[0m\n\u001b[1;32m    331\u001b[0m \u001b[0;34m\u001b[0m\u001b[0m\n",
      "\u001b[0;32m/usr/local/Cellar/jupyterlab/3.0.5/libexec/lib/python3.9/site-packages/nest_asyncio.py\u001b[0m in \u001b[0;36mrun_until_complete\u001b[0;34m(self, future)\u001b[0m\n\u001b[1;32m     90\u001b[0m                 \u001b[0mf\u001b[0m\u001b[0;34m.\u001b[0m\u001b[0m_log_destroy_pending\u001b[0m \u001b[0;34m=\u001b[0m \u001b[0;32mFalse\u001b[0m\u001b[0;34m\u001b[0m\u001b[0;34m\u001b[0m\u001b[0m\n\u001b[1;32m     91\u001b[0m             \u001b[0;32mwhile\u001b[0m \u001b[0;32mnot\u001b[0m \u001b[0mf\u001b[0m\u001b[0;34m.\u001b[0m\u001b[0mdone\u001b[0m\u001b[0;34m(\u001b[0m\u001b[0;34m)\u001b[0m\u001b[0;34m:\u001b[0m\u001b[0;34m\u001b[0m\u001b[0;34m\u001b[0m\u001b[0m\n\u001b[0;32m---> 92\u001b[0;31m                 \u001b[0mself\u001b[0m\u001b[0;34m.\u001b[0m\u001b[0m_run_once\u001b[0m\u001b[0;34m(\u001b[0m\u001b[0;34m)\u001b[0m\u001b[0;34m\u001b[0m\u001b[0;34m\u001b[0m\u001b[0m\n\u001b[0m\u001b[1;32m     93\u001b[0m                 \u001b[0;32mif\u001b[0m \u001b[0mself\u001b[0m\u001b[0;34m.\u001b[0m\u001b[0m_stopping\u001b[0m\u001b[0;34m:\u001b[0m\u001b[0;34m\u001b[0m\u001b[0;34m\u001b[0m\u001b[0m\n\u001b[1;32m     94\u001b[0m                     \u001b[0;32mbreak\u001b[0m\u001b[0;34m\u001b[0m\u001b[0;34m\u001b[0m\u001b[0m\n",
      "\u001b[0;32m/usr/local/Cellar/jupyterlab/3.0.5/libexec/lib/python3.9/site-packages/nest_asyncio.py\u001b[0m in \u001b[0;36m_run_once\u001b[0;34m(self)\u001b[0m\n\u001b[1;32m    130\u001b[0m             \u001b[0mhandle\u001b[0m \u001b[0;34m=\u001b[0m \u001b[0mready\u001b[0m\u001b[0;34m.\u001b[0m\u001b[0mpopleft\u001b[0m\u001b[0;34m(\u001b[0m\u001b[0;34m)\u001b[0m\u001b[0;34m\u001b[0m\u001b[0;34m\u001b[0m\u001b[0m\n\u001b[1;32m    131\u001b[0m             \u001b[0;32mif\u001b[0m \u001b[0;32mnot\u001b[0m \u001b[0mhandle\u001b[0m\u001b[0;34m.\u001b[0m\u001b[0m_cancelled\u001b[0m\u001b[0;34m:\u001b[0m\u001b[0;34m\u001b[0m\u001b[0;34m\u001b[0m\u001b[0m\n\u001b[0;32m--> 132\u001b[0;31m                 \u001b[0mhandle\u001b[0m\u001b[0;34m.\u001b[0m\u001b[0m_run\u001b[0m\u001b[0;34m(\u001b[0m\u001b[0;34m)\u001b[0m\u001b[0;34m\u001b[0m\u001b[0;34m\u001b[0m\u001b[0m\n\u001b[0m\u001b[1;32m    133\u001b[0m         \u001b[0mhandle\u001b[0m \u001b[0;34m=\u001b[0m \u001b[0;32mNone\u001b[0m\u001b[0;34m\u001b[0m\u001b[0;34m\u001b[0m\u001b[0m\n\u001b[1;32m    134\u001b[0m \u001b[0;34m\u001b[0m\u001b[0m\n",
      "\u001b[0;32m/usr/local/Cellar/jupyterlab/3.0.5/libexec/lib/python3.9/site-packages/nest_asyncio.py\u001b[0m in \u001b[0;36mrun\u001b[0;34m(self)\u001b[0m\n\u001b[1;32m    199\u001b[0m         \u001b[0;32mtry\u001b[0m\u001b[0;34m:\u001b[0m\u001b[0;34m\u001b[0m\u001b[0;34m\u001b[0m\u001b[0m\n\u001b[1;32m    200\u001b[0m             \u001b[0mctx\u001b[0m \u001b[0;34m=\u001b[0m \u001b[0mself\u001b[0m\u001b[0;34m.\u001b[0m\u001b[0m_context\u001b[0m\u001b[0;34m.\u001b[0m\u001b[0mcopy\u001b[0m\u001b[0;34m(\u001b[0m\u001b[0;34m)\u001b[0m\u001b[0;34m\u001b[0m\u001b[0;34m\u001b[0m\u001b[0m\n\u001b[0;32m--> 201\u001b[0;31m             \u001b[0mctx\u001b[0m\u001b[0;34m.\u001b[0m\u001b[0mrun\u001b[0m\u001b[0;34m(\u001b[0m\u001b[0mself\u001b[0m\u001b[0;34m.\u001b[0m\u001b[0m_callback\u001b[0m\u001b[0;34m,\u001b[0m \u001b[0;34m*\u001b[0m\u001b[0mself\u001b[0m\u001b[0;34m.\u001b[0m\u001b[0m_args\u001b[0m\u001b[0;34m)\u001b[0m\u001b[0;34m\u001b[0m\u001b[0;34m\u001b[0m\u001b[0m\n\u001b[0m\u001b[1;32m    202\u001b[0m             \u001b[0;32mif\u001b[0m \u001b[0mctx\u001b[0m\u001b[0;34m:\u001b[0m\u001b[0;34m\u001b[0m\u001b[0;34m\u001b[0m\u001b[0m\n\u001b[1;32m    203\u001b[0m                 \u001b[0mself\u001b[0m\u001b[0;34m.\u001b[0m\u001b[0m_context\u001b[0m\u001b[0;34m.\u001b[0m\u001b[0mrun\u001b[0m\u001b[0;34m(\u001b[0m\u001b[0mupdate_from_context\u001b[0m\u001b[0;34m,\u001b[0m \u001b[0mctx\u001b[0m\u001b[0;34m)\u001b[0m\u001b[0;34m\u001b[0m\u001b[0;34m\u001b[0m\u001b[0m\n",
      "\u001b[0;32m/usr/local/Cellar/jupyterlab/3.0.5/libexec/lib/python3.9/site-packages/nest_asyncio.py\u001b[0m in \u001b[0;36mstep\u001b[0;34m(task, exc)\u001b[0m\n\u001b[1;32m    157\u001b[0m         \u001b[0mcurr_task\u001b[0m \u001b[0;34m=\u001b[0m \u001b[0mcurr_tasks\u001b[0m\u001b[0;34m.\u001b[0m\u001b[0mget\u001b[0m\u001b[0;34m(\u001b[0m\u001b[0mtask\u001b[0m\u001b[0;34m.\u001b[0m\u001b[0m_loop\u001b[0m\u001b[0;34m)\u001b[0m\u001b[0;34m\u001b[0m\u001b[0;34m\u001b[0m\u001b[0m\n\u001b[1;32m    158\u001b[0m         \u001b[0;32mtry\u001b[0m\u001b[0;34m:\u001b[0m\u001b[0;34m\u001b[0m\u001b[0;34m\u001b[0m\u001b[0m\n\u001b[0;32m--> 159\u001b[0;31m             \u001b[0mstep_orig\u001b[0m\u001b[0;34m(\u001b[0m\u001b[0mtask\u001b[0m\u001b[0;34m,\u001b[0m \u001b[0mexc\u001b[0m\u001b[0;34m)\u001b[0m\u001b[0;34m\u001b[0m\u001b[0;34m\u001b[0m\u001b[0m\n\u001b[0m\u001b[1;32m    160\u001b[0m         \u001b[0;32mfinally\u001b[0m\u001b[0;34m:\u001b[0m\u001b[0;34m\u001b[0m\u001b[0;34m\u001b[0m\u001b[0m\n\u001b[1;32m    161\u001b[0m             \u001b[0;32mif\u001b[0m \u001b[0mcurr_task\u001b[0m \u001b[0;32mis\u001b[0m \u001b[0;32mNone\u001b[0m\u001b[0;34m:\u001b[0m\u001b[0;34m\u001b[0m\u001b[0;34m\u001b[0m\u001b[0m\n",
      "\u001b[0;32m/usr/local/Cellar/python@3.9/3.9.1_6/Frameworks/Python.framework/Versions/3.9/lib/python3.9/asyncio/tasks.py\u001b[0m in \u001b[0;36m__step\u001b[0;34m(***failed resolving arguments***)\u001b[0m\n\u001b[1;32m    254\u001b[0m                 \u001b[0;31m# We use the `send` method directly, because coroutines\u001b[0m\u001b[0;34m\u001b[0m\u001b[0;34m\u001b[0m\u001b[0;34m\u001b[0m\u001b[0m\n\u001b[1;32m    255\u001b[0m                 \u001b[0;31m# don't have `__iter__` and `__next__` methods.\u001b[0m\u001b[0;34m\u001b[0m\u001b[0;34m\u001b[0m\u001b[0;34m\u001b[0m\u001b[0m\n\u001b[0;32m--> 256\u001b[0;31m                 \u001b[0mresult\u001b[0m \u001b[0;34m=\u001b[0m \u001b[0mcoro\u001b[0m\u001b[0;34m.\u001b[0m\u001b[0msend\u001b[0m\u001b[0;34m(\u001b[0m\u001b[0;32mNone\u001b[0m\u001b[0;34m)\u001b[0m\u001b[0;34m\u001b[0m\u001b[0;34m\u001b[0m\u001b[0m\n\u001b[0m\u001b[1;32m    257\u001b[0m             \u001b[0;32melse\u001b[0m\u001b[0;34m:\u001b[0m\u001b[0;34m\u001b[0m\u001b[0;34m\u001b[0m\u001b[0m\n\u001b[1;32m    258\u001b[0m                 \u001b[0mresult\u001b[0m \u001b[0;34m=\u001b[0m \u001b[0mcoro\u001b[0m\u001b[0;34m.\u001b[0m\u001b[0mthrow\u001b[0m\u001b[0;34m(\u001b[0m\u001b[0mexc\u001b[0m\u001b[0;34m)\u001b[0m\u001b[0;34m\u001b[0m\u001b[0;34m\u001b[0m\u001b[0m\n",
      "\u001b[0;32m/usr/local/Cellar/jupyterlab/3.0.5/libexec/lib/python3.9/site-packages/twint/run.py\u001b[0m in \u001b[0;36mrun\u001b[0;34m(self)\u001b[0m\n\u001b[1;32m    284\u001b[0m                     \u001b[0;32melif\u001b[0m \u001b[0mself\u001b[0m\u001b[0;34m.\u001b[0m\u001b[0mconfig\u001b[0m\u001b[0;34m.\u001b[0m\u001b[0mTwitterSearch\u001b[0m\u001b[0;34m:\u001b[0m\u001b[0;34m\u001b[0m\u001b[0;34m\u001b[0m\u001b[0m\n\u001b[1;32m    285\u001b[0m                         \u001b[0mlogme\u001b[0m\u001b[0;34m.\u001b[0m\u001b[0mdebug\u001b[0m\u001b[0;34m(\u001b[0m\u001b[0m__name__\u001b[0m \u001b[0;34m+\u001b[0m \u001b[0;34m':Twint:main:twitter-search'\u001b[0m\u001b[0;34m)\u001b[0m\u001b[0;34m\u001b[0m\u001b[0;34m\u001b[0m\u001b[0m\n\u001b[0;32m--> 286\u001b[0;31m                         \u001b[0;32mawait\u001b[0m \u001b[0mself\u001b[0m\u001b[0;34m.\u001b[0m\u001b[0mtweets\u001b[0m\u001b[0;34m(\u001b[0m\u001b[0;34m)\u001b[0m\u001b[0;34m\u001b[0m\u001b[0;34m\u001b[0m\u001b[0m\n\u001b[0m\u001b[1;32m    287\u001b[0m                 \u001b[0;32melse\u001b[0m\u001b[0;34m:\u001b[0m\u001b[0;34m\u001b[0m\u001b[0;34m\u001b[0m\u001b[0m\n\u001b[1;32m    288\u001b[0m                     \u001b[0mlogme\u001b[0m\u001b[0;34m.\u001b[0m\u001b[0mdebug\u001b[0m\u001b[0;34m(\u001b[0m\u001b[0m__name__\u001b[0m \u001b[0;34m+\u001b[0m \u001b[0;34m':Twint:main:no-more-tweets'\u001b[0m\u001b[0;34m)\u001b[0m\u001b[0;34m\u001b[0m\u001b[0;34m\u001b[0m\u001b[0m\n",
      "\u001b[0;32m/usr/local/Cellar/jupyterlab/3.0.5/libexec/lib/python3.9/site-packages/twint/run.py\u001b[0m in \u001b[0;36mtweets\u001b[0;34m(self)\u001b[0m\n\u001b[1;32m    215\u001b[0m \u001b[0;34m\u001b[0m\u001b[0m\n\u001b[1;32m    216\u001b[0m     \u001b[0;32masync\u001b[0m \u001b[0;32mdef\u001b[0m \u001b[0mtweets\u001b[0m\u001b[0;34m(\u001b[0m\u001b[0mself\u001b[0m\u001b[0;34m)\u001b[0m\u001b[0;34m:\u001b[0m\u001b[0;34m\u001b[0m\u001b[0;34m\u001b[0m\u001b[0m\n\u001b[0;32m--> 217\u001b[0;31m         \u001b[0;32mawait\u001b[0m \u001b[0mself\u001b[0m\u001b[0;34m.\u001b[0m\u001b[0mFeed\u001b[0m\u001b[0;34m(\u001b[0m\u001b[0;34m)\u001b[0m\u001b[0;34m\u001b[0m\u001b[0;34m\u001b[0m\u001b[0m\n\u001b[0m\u001b[1;32m    218\u001b[0m         \u001b[0;31m# TODO : need to take care of this later\u001b[0m\u001b[0;34m\u001b[0m\u001b[0;34m\u001b[0m\u001b[0;34m\u001b[0m\u001b[0m\n\u001b[1;32m    219\u001b[0m         \u001b[0;32mif\u001b[0m \u001b[0mself\u001b[0m\u001b[0;34m.\u001b[0m\u001b[0mconfig\u001b[0m\u001b[0;34m.\u001b[0m\u001b[0mLocation\u001b[0m\u001b[0;34m:\u001b[0m\u001b[0;34m\u001b[0m\u001b[0;34m\u001b[0m\u001b[0m\n",
      "\u001b[0;32m/usr/local/Cellar/jupyterlab/3.0.5/libexec/lib/python3.9/site-packages/twint/run.py\u001b[0m in \u001b[0;36mFeed\u001b[0;34m(self)\u001b[0m\n\u001b[1;32m    134\u001b[0m \u001b[0;34m\u001b[0m\u001b[0m\n\u001b[1;32m    135\u001b[0m                     \u001b[0msys\u001b[0m\u001b[0;34m.\u001b[0m\u001b[0mstderr\u001b[0m\u001b[0;34m.\u001b[0m\u001b[0mwrite\u001b[0m\u001b[0;34m(\u001b[0m\u001b[0;34m'sleeping for {} secs\\n'\u001b[0m\u001b[0;34m.\u001b[0m\u001b[0mformat\u001b[0m\u001b[0;34m(\u001b[0m\u001b[0mdelay\u001b[0m\u001b[0;34m)\u001b[0m\u001b[0;34m)\u001b[0m\u001b[0;34m\u001b[0m\u001b[0;34m\u001b[0m\u001b[0m\n\u001b[0;32m--> 136\u001b[0;31m                     \u001b[0mtime\u001b[0m\u001b[0;34m.\u001b[0m\u001b[0msleep\u001b[0m\u001b[0;34m(\u001b[0m\u001b[0mdelay\u001b[0m\u001b[0;34m)\u001b[0m\u001b[0;34m\u001b[0m\u001b[0;34m\u001b[0m\u001b[0m\n\u001b[0m\u001b[1;32m    137\u001b[0m                     \u001b[0mself\u001b[0m\u001b[0;34m.\u001b[0m\u001b[0muser_agent\u001b[0m \u001b[0;34m=\u001b[0m \u001b[0;32mawait\u001b[0m \u001b[0mget\u001b[0m\u001b[0;34m.\u001b[0m\u001b[0mRandomUserAgent\u001b[0m\u001b[0;34m(\u001b[0m\u001b[0mwa\u001b[0m\u001b[0;34m=\u001b[0m\u001b[0;32mTrue\u001b[0m\u001b[0;34m)\u001b[0m\u001b[0;34m\u001b[0m\u001b[0;34m\u001b[0m\u001b[0m\n\u001b[1;32m    138\u001b[0m                     \u001b[0;32mcontinue\u001b[0m\u001b[0;34m\u001b[0m\u001b[0;34m\u001b[0m\u001b[0m\n",
      "\u001b[0;31mKeyboardInterrupt\u001b[0m: "
     ]
    }
   ],
   "source": [
    "c = twint.Config()\n",
    "\n",
    "c.Custom[\"tweet\"] = [\"id\"]\n",
    "c.Custom[\"user\"] = [\"bio\"]\n",
    "c.Limit = 10\n",
    "c.Store_csv = True\n",
    "c.Output = \"none\"\n",
    "\n",
    "twint.run.Search(c)"
   ]
  },
  {
   "cell_type": "code",
   "execution_count": 8,
   "id": "completed-humanity",
   "metadata": {},
   "outputs": [
    {
     "name": "stdout",
     "output_type": "stream",
     "text": [
      "1381958323986124801 2021-04-13 08:11:54 -0500 <noneprivacy> The FB, Linkedin and Clubhouse \"leaks\" are not actual leaks  Then, if we want to discuss if being able to get that amount of data is wrong or not, let's chat but it's a totally different topic\n",
      "1380461578257104896 2021-04-09 05:04:22 -0500 <noneprivacy> @Cloudflare updated their infrastructure IPs list, make the following changes to your iptables rules  Remove:  104.16.0.0/12   Add:  104.16.0.0/13 104.24.0.0/14\n",
      "1380109111581364225 2021-04-08 05:43:48 -0500 <noneprivacy> @Zewensec @Ginger__T Well, keeping the analogy, I hope that you put the X on your map yourself In my personal vision, it's like your goal\n",
      "1380106045251588098 2021-04-08 05:31:36 -0500 <noneprivacy> @Ginger__T Aaah damn, felt something was missing and that's it!\n",
      "1380091641898360832 2021-04-08 04:34:22 -0500 <noneprivacy> #ELI5 #OSINT  OSINT is like doing a treasure hunt, but you need to make your own map.\n",
      "1379695877800005633 2021-04-07 02:21:45 -0500 <noneprivacy> @serhack_ I used Trello and Gitkraken in the past, fine with both  Gitkraken is not just a Git client, you also have issue board, timeline and nice stuff, all made easy\n",
      "1379692350633611269 2021-04-07 02:07:44 -0500 <noneprivacy> What do you suggest to use?  Feel free to leave a comment, I value your feedback!\n",
      "1379337256239046656 2021-04-06 02:36:43 -0500 <noneprivacy> @shofieu Hi Shofiuddin, I don't touch twint since a while so the code may just not work for other reasons\n",
      "1378974349194067968 2021-04-05 02:34:39 -0500 <noneprivacy> @B1tSmurf Ah nice, I don't know much about Object Pascal Good to know!\n",
      "1378776547876876290 2021-04-04 13:28:40 -0500 <noneprivacy> Could be of interest to @BufferBandit 😂\n",
      "1378776288471756811 2021-04-04 13:27:38 -0500 <noneprivacy> Let's add some pepper to this, and specifically for C/C++ (AFAIK). What about prototypes?   https://t.co/zNUVSd2oG5\n",
      "1378414070529990662 2021-04-03 13:28:18 -0500 <noneprivacy> @BufferBandit I refused to add the option \"between the first and the last\" because things should not be placed randomly Still, things that my eyes (unfortunately) have seen 😂\n",
      "1378410948696887298 2021-04-03 13:15:54 -0500 <noneprivacy> To anyone who writes C/C++/Go/Rust/whatsoever... \"main\" function as:\n",
      "1377543861648646146 2021-04-01 03:50:24 -0500 <noneprivacy> @Flizzar  https://t.co/uEJpOj333K\n",
      "1377245758563434503 2021-03-31 08:05:51 -0500 <noneprivacy> lmao\n",
      "1375836959160086531 2021-03-27 10:47:47 -0500 <noneprivacy> @uelandir  https://t.co/EO9yn0aZSP\n",
      "1375836026749530117 2021-03-27 10:44:05 -0500 <noneprivacy> 👀👀👀👌🏼  https://t.co/FFUHtUn901\n",
      "1373887803449294851 2021-03-22 01:42:32 -0500 <noneprivacy> If you need to do cross-origin requests better use an API proxy, CORS is for browsers (preflight request) so you can use Python/Go/else and proxy requests with it  Don't blame webdevs for not avoiding CORS checks (like Axios does)\n",
      "1373887801993916421 2021-03-22 01:42:32 -0500 <noneprivacy> CORS is not there for nothing or wasting time, it's a security feature. I see people asking to manage it client-side but it's handled server-side. There are ways to disable client-side checks but better not to do so\n",
      "1373367302079528961 2021-03-20 15:14:15 -0500 <noneprivacy> 🔮\n",
      "1373209264358035456 2021-03-20 04:46:16 -0500 <noneprivacy> @GONZOs_int @nickdrewe Totally agree with you!\n",
      "1373196126560587779 2021-03-20 03:54:03 -0500 <noneprivacy> @UKOSINT @OSINTtechniques Can confirm with IT IP adderss I do think it's restricted\n",
      "1373164632756604934 2021-03-20 01:48:55 -0500 <noneprivacy> @GONZOs_int @nickdrewe Nice tool mate but...  You know that emails in commits can be spoofed (and not just emails), right? 😉\n",
      "1372964633506689026 2021-03-19 12:34:11 -0500 <noneprivacy> I received an email inviting me for quick survey  The company has \"dox\" in the name  Not the best marketing choice, imho\n",
      "1372862947874250754 2021-03-19 05:50:07 -0500 <noneprivacy> @switch_d Just archive the chat, nothing's gonna happen\n",
      "1372862062716715009 2021-03-19 05:46:36 -0500 <noneprivacy> @olihough86 No F way\n",
      "1372861658419376144 2021-03-19 05:45:00 -0500 <noneprivacy> (A bit more rare) but also domains rotate! Use historical records carefully!\n",
      "1370707829779234822 2021-03-13 06:06:27 -0500 <noneprivacy> IG added \"unsend\" option for direct messages. Still, if a message violates community standard it can be reported even if has been \"unsent\"  https://t.co/cTBWVN26Df\n",
      "1369957268410806273 2021-03-11 04:24:00 -0500 <noneprivacy> At the end, in my humble opinion, the point is that when using such services/tools is preferred to not abuse them (or simply use them \"too extensively\") otherwise get ready to say goodbye.  I think this is just a matter of opinions and nothing (much) more\n",
      "1369957266586275843 2021-03-11 04:23:59 -0500 <noneprivacy> But \"hey, it's free and without bounds, they made the tool/service thus it's their own responsibility. Let's use it until it's there\"  Well yes, that's true but ethically speaking is not really kind (still, their own issue, they made it this way)\n",
      "1369957264732389377 2021-03-11 04:23:59 -0500 <noneprivacy> There are a few things to say  In my opinion, just because a tool/service is free it doesn't mean that it could be abused, this would just lead to it taken down\n",
      "1369957262777794561 2021-03-11 04:23:58 -0500 <noneprivacy> More on this  I'll not share the name of the company, what happened or other details  The loophole in the free tier can be used to avoid paid plans (this is my main concern)\n",
      "1369623001214423042 2021-03-10 06:15:44 -0500 <noneprivacy> I thought mail bombing is an old thing  Still, dis/mis-information groups use it  Btw the text proposed is static, so easy to flag as spam  https://t.co/zj9mdehJpE\n",
      "1369556836853178373 2021-03-10 01:52:49 -0500 <noneprivacy> @GiorgioPatrini  https://t.co/ejzZOqYc3a\n",
      "1369553251528491010 2021-03-10 01:38:34 -0500 <noneprivacy> Malware is outdated\n",
      "1369413461684457484 2021-03-09 16:23:06 -0500 <noneprivacy> Feel free to share your experience in similar situations\n",
      "1369413045710172177 2021-03-09 16:21:27 -0500 <noneprivacy> Recently I've found a loophole in a service, I contacted the company and they basically said \"yes we are aware and that's fine for us\"  Now, what should one do?\n",
      "1369374558835343367 2021-03-09 13:48:31 -0500 <noneprivacy> 👇🏻👇🏻👇🏻\n",
      "1369334759344734209 2021-03-09 11:10:22 -0500 <noneprivacy> @1005458 fake news\n",
      "1369290486947721216 2021-03-09 08:14:26 -0500 <noneprivacy> First Encrochat, now Sky ECC   https://t.co/pqaNSakEGJ  👀\n",
      "1369017343544811523 2021-03-08 14:09:04 -0500 <noneprivacy> @DanielGallagher I would also like to contribute in other ways, both to share my experience and to learn new things\n",
      "1367836868084183040 2021-03-05 07:58:17 -0500 <noneprivacy> • assume compromise •\n",
      "1367470103537868808 2021-03-04 07:40:53 -0500 <noneprivacy> Evergreen\n",
      "1367469888957276163 2021-03-04 07:40:02 -0500 <noneprivacy> @mylifeasalllly @Infosec_Taylor Fortunately that's false!\n",
      "1366376725379239943 2021-03-01 07:16:12 -0500 <noneprivacy> #privacy help needed and hope that some #osint friend can help as well!\n",
      "1366376371908395009 2021-03-01 07:14:47 -0500 <noneprivacy> @n0x08 Then If you need an account for a few apps (only needed ones) create new of them and don't sync to any cloud service  Block/suspend the previous profile and social media and stuff  At least, I'd start this way  In case of doubt @IntelTechniques helps a lot!\n",
      "1366375822655897606 2021-03-01 07:12:36 -0500 <noneprivacy> @n0x08 At first, I'd suggest a complete hard reset of the phone (delete everything) Once the phone is \"as new\" don't use iCloud and if you need new IDs use new email addresses and phone numbers\n",
      "1365335336713400325 2021-02-26 10:18:05 -0500 <noneprivacy> @andpalmier @JAMESWT_MHT @intesasanpaolo @GruppoBPER_PR @illegalFawn @Bank_Security @PGRotondo @FBussoletti @guelfoweb /cc @Bank_Security\n",
      "1365315138245566473 2021-02-26 08:57:49 -0500 <noneprivacy> @DarkDotFail Setup some \"backup\" solutions\n",
      "1364681944089378816 2021-02-24 15:01:44 -0500 <noneprivacy> @switch_d Hey, this's written by me!\n",
      "1364322668338679809 2021-02-23 15:14:06 -0500 <noneprivacy> @BushidoToken Great thank you  May I keep you updated as soon as I can? Maybe my details/experience may help you somehow  Maybe one way or the other we can figure out what's going on and who is doing what\n",
      "1364319000684081153 2021-02-23 14:59:32 -0500 <noneprivacy> @BushidoToken Would you like to share some info? Me and friends received this sort of spam by SMS containing actual real name of the receiver There seems to be something interesting, let it be template, actors or else\n",
      "1359575205274931202 2021-02-10 12:49:23 -0500 <noneprivacy>  https://t.co/0nExEZpxAD\n",
      "1359525792007471105 2021-02-10 09:33:02 -0500 <noneprivacy> @ludoblock  https://t.co/gElNtvft0d\n",
      "1359520471096655874 2021-02-10 09:11:53 -0500 <noneprivacy> @chicago ⓘ 𝗢𝗳𝗳𝗶𝗰𝗶𝗮𝗹 𝘀𝗼𝘂𝗿𝗰𝗲𝘀 𝘀𝘁𝗮𝘁𝗲𝗱 𝘁𝗵𝗮𝘁 𝘁𝗵𝗶𝘀 𝗶𝘀 𝗳𝗮𝗹𝘀𝗲 𝗮𝗻𝗱 𝗺𝗶𝘀𝗹𝗲𝗮𝗱𝗶𝗻𝗴\n",
      "1359520180435574785 2021-02-10 09:10:44 -0500 <noneprivacy> ⓘ 𝗢𝗳𝗳𝗶𝗰𝗶𝗮𝗹 𝘀𝗼𝘂𝗿𝗰𝗲𝘀 𝘀𝘁𝗮𝘁𝗲𝗱 𝘁𝗵𝗮𝘁 𝘁𝗵𝗶𝘀 𝗶𝘀 𝗳𝗮𝗹𝘀𝗲 𝗮𝗻𝗱 𝗺𝗶𝘀𝗹𝗲𝗮𝗱𝗶𝗻𝗴\n",
      "1359479839120621577 2021-02-10 06:30:26 -0500 <noneprivacy> € 125/h is more like a blackfriday discount, sort of a gift, for professional consultancy\n",
      "1358677750085799937 2021-02-08 01:23:13 -0500 <noneprivacy> @SkittlesSpace @BOsintBlanc @DuckDuckGo @three_cube 🙏🏻\n",
      "1358677587317374979 2021-02-08 01:22:34 -0500 <noneprivacy> 👇🏻👇🏻👇🏻\n",
      "1358164692468924423 2021-02-06 15:24:30 -0500 <noneprivacy> @testdrivenio @realpython And to check if two passwords are the same don't use ==, use \" https://t.co/ysQRsgW3KN_digest\" instead!\n",
      "1357658453033025541 2021-02-05 05:52:53 -0500 <noneprivacy> Beware they are blocking entire TLDs\n",
      "1357617398745079810 2021-02-05 03:09:45 -0500 <noneprivacy> @nima_shadmehri Sent\n",
      "1357617355791228928 2021-02-05 03:09:35 -0500 <noneprivacy> @mmrabbani Sent\n",
      "1357617220168413184 2021-02-05 03:09:03 -0500 <noneprivacy> @alirezaimi Can't DM you\n",
      "1357367305009848320 2021-02-04 10:35:58 -0500 <noneprivacy> #IRanASignalProxy Reply to this thread if you want the connection details, and follow me so I can DM you the link\n",
      "1355807177001328640 2021-01-31 03:16:35 -0500 <noneprivacy> Principles and basic theory*\n",
      "1355545892565233668 2021-01-30 09:58:20 -0500 <noneprivacy>  https://t.co/SDgcYoblBd\n",
      "1355450654131539968 2021-01-30 03:39:53 -0500 <noneprivacy> Guess not gonna use production software loading libgcrypt 1.9.0 for a while now 👀\n",
      "1354736614799532032 2021-01-28 04:22:33 -0500 <noneprivacy> @ItalianComments  https://t.co/xspZOvvrH0\n",
      "1354555373479464966 2021-01-27 16:22:22 -0500 <noneprivacy> @DavidPuente Questo livello di diffamazione è abbastanza grave\n",
      "1354504602507476995 2021-01-27 13:00:37 -0500 <noneprivacy> @JordanWildon Thank you for sharing this, not just for me but also for the others  I think that people should focus more on what they give rather than what they get, and in my experience #OSINT guys do this very well!\n",
      "1353798878244515840 2021-01-25 14:16:19 -0500 <noneprivacy> @lracrr @faffa42 @fabiochiusi @ORARiccardo \"Sono Francesco Poldi e affermo di avere più di 14 anni\" con tanto di carta di identità alla mano  Boh cioè mi viene da ridere per non piangere\n",
      "1353794497939992578 2021-01-25 13:58:55 -0500 <noneprivacy> @gretelisabetta Spero sia meme\n",
      "1353611634443493376 2021-01-25 01:52:17 -0500 <noneprivacy> 👇🏻👇🏻👇🏻\n",
      "1352916391461060608 2021-01-23 03:49:38 -0500 <noneprivacy> @LockpickingPete You may be interested in joining the @TraceLabs Slack, from time to time they push new cases similar to CTFs  If that's not enough, @NCPTF8 has a specific volunteers program which you may apply to  And it doesn't stop there, there's also @OSPASafeEscape and many others!\n",
      "1352533221813219329 2021-01-22 02:27:03 -0500 <noneprivacy> @ItsNux * IT team sad noise *\n",
      "1352371708305534982 2021-01-21 15:45:15 -0500 <noneprivacy> @_MAArgentino If you may need some support, feel free to reach out ✌🏻\n",
      "1352371205005836300 2021-01-21 15:43:15 -0500 <noneprivacy> @Kkzahu @_MAArgentino Not sure if tgstat provides this sort of info, but it could be possible\n",
      "1352370406536175619 2021-01-21 15:40:05 -0500 <noneprivacy> @Flizzar Tocca piano\n",
      "1352307601099411459 2021-01-21 11:30:31 -0500 <noneprivacy> * cough * Facebook * cough *\n",
      "1352297470420774915 2021-01-21 10:50:16 -0500 <noneprivacy> @jms_dot_py I woke up with the idea of a YT channel talking about dev things, \"CPP Recipes and Headaches\"  Only have the contents for now\n",
      "1352276679406837760 2021-01-21 09:27:39 -0500 <noneprivacy>  https://t.co/MS0EpuLvlt\n",
      "1352237886473695233 2021-01-21 06:53:30 -0500 <noneprivacy> @NixiePixel Not my business but I think that as soon as thermal sources are not too close to each other, you are quite safe to go. Still, you can run psensor and see differences with the same load\n",
      "1351898846100647940 2021-01-20 08:26:16 -0500 <noneprivacy> This made my day\n",
      "1351897904647122944 2021-01-20 08:22:32 -0500 <noneprivacy> Metadata, metadata everywhere!  Well done, Jordan 👏🏻👏🏻👏🏻\n",
      "1351167332534644741 2021-01-18 07:59:30 -0500 <noneprivacy> Twitter adds \"materials may have been obtained through hacking...\" label 👀  https://t.co/I0x1lPCbIQ\n",
      "1351147429635256321 2021-01-18 06:40:24 -0500 <noneprivacy> Check this out and its YT channel, so interesting!\n",
      "1350867914694533122 2021-01-17 12:09:43 -0500 <noneprivacy> @_MAArgentino Add @DisinfoEU and @openfacto ;)\n",
      "1350108835772563456 2021-01-15 09:53:24 -0500 <noneprivacy> @SkittlesSpace Who knows\n",
      "1350088057354117125 2021-01-15 08:30:50 -0500 <noneprivacy> Only God truly knows what happened on the 6th  - source: statistics from my Telegram CSE  https://t.co/4J1kvfBAFO\n",
      "1350053110048292864 2021-01-15 06:11:58 -0500 <noneprivacy> @ludoblock @EricNewton2020 @BenDoBrown @intelligence_i1 Android + Google Play Serivces  You can still use an Android phone without GServices, which means less features  Imho, if all you can have is just an Android phone and need to use PM without being worried about Google stuff, just use it on FF\n",
      "1350052471327092737 2021-01-15 06:09:26 -0500 <noneprivacy> @EricNewton2020 @BenDoBrown @intelligence_i1 That being said, users can still use PM without using smartphones so, imho, it's not entirely an issue with PM. Rather, it's a \"privacy compatibility\" issue.  Just my 2c, anything more\n",
      "1350051284603334657 2021-01-15 06:04:43 -0500 <noneprivacy> @EricNewton2020 @BenDoBrown @intelligence_i1 But this is a specific case which highlights how Google-based devices are not really privacy friendly, as we already know.  Also PM says that they use E2EE even for push notifications  https://t.co/YJ5R1WAB3F\n",
      "1350025413242859521 2021-01-15 04:21:55 -0500 <noneprivacy> @EricNewton2020 @BenDoBrown @intelligence_i1 Why do you think that PM2PM is not secure?\n",
      "1350007125821501440 2021-01-15 03:09:15 -0500 <noneprivacy> @BenDoBrown @intelligence_i1 Signal or protonmail, in case of PM better if the other peer uses it too otherwise not much effect  If the channel needs to be secure enough but Signal and PM are not suitable, Wire is a solution\n",
      "1350005766502178816 2021-01-15 03:03:51 -0500 <noneprivacy> @intelligence_i1 Based on that, how much it's secured (or not) it's not really an issue for me  Others can't read my messages in p2p chats, but Telegram............  Btw TG is nice, maybe not the first solution for secure communications but I still use it\n",
      "1350005048189792256 2021-01-15 03:01:00 -0500 <noneprivacy> @intelligence_i1 In my humble opinion, one of the biggest misconceptions is that Telegram is a secure communication service while it's just a social app  If I need to chat with people (in general terms) I may use TG, but if I need a secure channel, I move away\n",
      "1350000228561281025 2021-01-15 02:41:50 -0500 <noneprivacy> NetShield vs NextDNS  Who is going to win?  https://t.co/QhD9rHWRD8\n",
      "1349991290574934017 2021-01-15 02:06:19 -0500 <noneprivacy> @KAS_stoner Nope\n",
      "1349705556165058562 2021-01-14 07:10:55 -0500 <noneprivacy> @dstreefkerk @cyb3rops Yeah that's what I was missing 🙈\n"
     ]
    }
   ],
   "source": [
    "c = twint.Config()\n",
    "\n",
    "c.Username = \"noneprivacy\"\n",
    "c.Custom[\"tweet\"] = [\"id\"]\n",
    "c.Custom[\"user\"] = [\"bio\"]\n",
    "c.Limit = 10\n",
    "c.Store_csv = True\n",
    "c.Output = \"none\"\n",
    "\n",
    "twint.run.Search(c)"
   ]
  },
  {
   "cell_type": "code",
   "execution_count": null,
   "id": "thick-exploration",
   "metadata": {},
   "outputs": [],
   "source": []
  },
  {
   "cell_type": "code",
   "execution_count": null,
   "id": "piano-repeat",
   "metadata": {},
   "outputs": [],
   "source": []
  }
 ],
 "metadata": {
  "kernelspec": {
   "display_name": "Python 3",
   "language": "python",
   "name": "python3"
  },
  "language_info": {
   "codemirror_mode": {
    "name": "ipython",
    "version": 3
   },
   "file_extension": ".py",
   "mimetype": "text/x-python",
   "name": "python",
   "nbconvert_exporter": "python",
   "pygments_lexer": "ipython3",
   "version": "3.9.1"
  }
 },
 "nbformat": 4,
 "nbformat_minor": 5
}
